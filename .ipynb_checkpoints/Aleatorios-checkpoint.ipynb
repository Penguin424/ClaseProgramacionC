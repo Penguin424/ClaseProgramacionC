{
 "cells": [
  {
   "cell_type": "code",
   "execution_count": 2,
   "metadata": {},
   "outputs": [],
   "source": [
    "from random import randrange"
   ]
  },
  {
   "cell_type": "code",
   "execution_count": 4,
   "metadata": {},
   "outputs": [],
   "source": [
    "numA = randrange(41, 51)\n",
    "numB = randrange(51, 61)\n",
    "numC = randrange(1, 11)\n",
    "\n",
    "oportunidades = 0\n",
    "\n",
    "contador = 1\n",
    "\n",
    "diferencia = numB - numA"
   ]
  },
  {
   "cell_type": "code",
   "execution_count": 6,
   "metadata": {},
   "outputs": [
    {
     "name": "stdout",
     "output_type": "stream",
     "text": [
      "Bienvenido a adivina el numero 2.0\n"
     ]
    }
   ],
   "source": [
    "print(\"Bienvenido a adivina el numero 2.0\")\n",
    "\n",
    "if diferencia > 0 and diferencia <= 11:\n",
    "    oportunidades = 4\n",
    "    opcion = int(input(\"INgresa el numero que crees que el programa genero\"))\n",
    "elif diferencia > 11 and diferencia <= 21\n",
    "    "
   ]
  }
 ],
 "metadata": {
  "kernelspec": {
   "display_name": "Python 3",
   "language": "python",
   "name": "python3"
  },
  "language_info": {
   "codemirror_mode": {
    "name": "ipython",
    "version": 3
   },
   "file_extension": ".py",
   "mimetype": "text/x-python",
   "name": "python",
   "nbconvert_exporter": "python",
   "pygments_lexer": "ipython3",
   "version": "3.7.4"
  }
 },
 "nbformat": 4,
 "nbformat_minor": 2
}
