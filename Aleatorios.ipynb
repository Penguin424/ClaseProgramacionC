{
 "cells": [
  {
   "cell_type": "code",
   "execution_count": null,
   "metadata": {},
   "outputs": [],
   "source": [
    "from random import randrange\n",
    "\n",
    "def juegoOp(d, a):\n",
    "    oportunidad = 0\n",
    "    contador = 0\n",
    "    \n",
    "    if d >= 0 and d <= 11:\n",
    "        oportunidad = 4\n",
    "    elif d >= 11 and d >= 20:\n",
    "        oportunidad = 5\n",
    "    elif d > 20:\n",
    "        oportunidad = 6\n",
    "        \n",
    "    print(oportunidad)\n",
    "        \n",
    "    while(contador <= oportunidad):\n",
    "        \n",
    "        print(\"tienes {} de {}\".format(contador, oportunidad))\n",
    "        \n",
    "        numero = int(input(\"Ingresa el numero que piensas que genero el programa: \"))\n",
    "        \n",
    "        if numero < a:\n",
    "            print(\"El numero que ingresaste es mas grande que el numero del programa\")\n",
    "            contador += 1\n",
    "        elif numero > a:\n",
    "            print(\"El numero que ingresaste es mas chico que el numero del programa\")\n",
    "            contador += 1\n",
    "        elif numero == a:\n",
    "            print(\"El numero que ingresaste es igual al de programa FELICIDADES!!!!!!\")\n",
    "            contador == oportunidad\n",
    "        \n",
    "numA = randrange(41, 51)\n",
    "numB = randrange(61, 71)\n",
    "\n",
    "\n",
    "diferencia = numB - numA\n",
    "\n",
    "numC = randrange(diferencia, numA)\n",
    "\n",
    "print(numC)\n",
    "\n",
    "print(\"Bienvenido a adivina el numero 2.0\")\n",
    "\n",
    "juegoOp(diferencia, numC)"
   ]
  }
 ],
 "metadata": {
  "kernelspec": {
   "display_name": "Python 3",
   "language": "python",
   "name": "python3"
  },
  "language_info": {
   "codemirror_mode": {
    "name": "ipython",
    "version": 3
   },
   "file_extension": ".py",
   "mimetype": "text/x-python",
   "name": "python",
   "nbconvert_exporter": "python",
   "pygments_lexer": "ipython3",
   "version": "3.7.4"
  }
 },
 "nbformat": 4,
 "nbformat_minor": 2
}
